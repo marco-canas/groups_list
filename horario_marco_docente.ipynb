{
 "cells": [
  {
   "cell_type": "markdown",
   "metadata": {},
   "source": [
    "<table align=\"left\">\n",
    "  <td>\n",
    "    <a href=\"https://colab.research.google.com/github/marco-canas/4_didactica_aritmetica/blob/main/modelo_general_clase_aula_invertida.ipynb\" target=\"_parent\"><img src=\"https://colab.research.google.com/assets/colab-badge.svg\" alt=\"Open In Colab\"/></a>\n",
    "  </td>\n",
    "</table>"
   ]
  },
  {
   "cell_type": "markdown",
   "metadata": {},
   "source": [
    "# Horario de docencia e investigación "
   ]
  },
  {
   "cell_type": "code",
   "execution_count": 1,
   "metadata": {},
   "outputs": [],
   "source": [
    "indices_horas_del_dia = ['8-10 AM', '10-12 AM', \\\n",
    "                         '2-4 PM', '4-6 PM']\n",
    "diccionario_horario = {'martes':['', '', 'pensamiento matemático', 'pensamiento matemático'],\\\n",
    "    'miércoles':[ '', '', 'Pensamiento matemático', 'Pensamiento matemático'], \\\n",
    "                        'Jueves': ['Cálculo Vectorial', 'Cálculo Vectorial',\\\n",
    "                                   'Ecuaciones Diferenciales', 'Ecuaciones Diferenciales'], \\\n",
    "                        'Viernes': ['Matemáticas I', 'Matemáticas I','','']}"
   ]
  },
  {
   "cell_type": "code",
   "execution_count": 2,
   "metadata": {},
   "outputs": [],
   "source": [
    "import pandas as pd "
   ]
  },
  {
   "cell_type": "code",
   "execution_count": 3,
   "metadata": {},
   "outputs": [
    {
     "data": {
      "text/html": [
       "<div>\n",
       "<style scoped>\n",
       "    .dataframe tbody tr th:only-of-type {\n",
       "        vertical-align: middle;\n",
       "    }\n",
       "\n",
       "    .dataframe tbody tr th {\n",
       "        vertical-align: top;\n",
       "    }\n",
       "\n",
       "    .dataframe thead th {\n",
       "        text-align: right;\n",
       "    }\n",
       "</style>\n",
       "<table border=\"1\" class=\"dataframe\">\n",
       "  <thead>\n",
       "    <tr style=\"text-align: right;\">\n",
       "      <th></th>\n",
       "      <th>martes</th>\n",
       "      <th>miércoles</th>\n",
       "      <th>Jueves</th>\n",
       "      <th>Viernes</th>\n",
       "    </tr>\n",
       "  </thead>\n",
       "  <tbody>\n",
       "    <tr>\n",
       "      <th>8-10 AM</th>\n",
       "      <td></td>\n",
       "      <td></td>\n",
       "      <td>Cálculo Vectorial</td>\n",
       "      <td>Matemáticas I</td>\n",
       "    </tr>\n",
       "    <tr>\n",
       "      <th>10-12 AM</th>\n",
       "      <td></td>\n",
       "      <td></td>\n",
       "      <td>Cálculo Vectorial</td>\n",
       "      <td>Matemáticas I</td>\n",
       "    </tr>\n",
       "    <tr>\n",
       "      <th>2-4 PM</th>\n",
       "      <td>pensamiento matemático</td>\n",
       "      <td>Pensamiento matemático</td>\n",
       "      <td>Ecuaciones Diferenciales</td>\n",
       "      <td></td>\n",
       "    </tr>\n",
       "    <tr>\n",
       "      <th>4-6 PM</th>\n",
       "      <td>pensamiento matemático</td>\n",
       "      <td>Pensamiento matemático</td>\n",
       "      <td>Ecuaciones Diferenciales</td>\n",
       "      <td></td>\n",
       "    </tr>\n",
       "  </tbody>\n",
       "</table>\n",
       "</div>"
      ],
      "text/plain": [
       "                          martes               miércoles  \\\n",
       "8-10 AM                                                    \n",
       "10-12 AM                                                   \n",
       "2-4 PM    pensamiento matemático  Pensamiento matemático   \n",
       "4-6 PM    pensamiento matemático  Pensamiento matemático   \n",
       "\n",
       "                            Jueves        Viernes  \n",
       "8-10 AM          Cálculo Vectorial  Matemáticas I  \n",
       "10-12 AM         Cálculo Vectorial  Matemáticas I  \n",
       "2-4 PM    Ecuaciones Diferenciales                 \n",
       "4-6 PM    Ecuaciones Diferenciales                 "
      ]
     },
     "execution_count": 3,
     "metadata": {},
     "output_type": "execute_result"
    }
   ],
   "source": [
    "horario_2024_1 = pd.DataFrame(diccionario_horario, index = indices_horas_del_dia)\n",
    "horario_2024_1"
   ]
  },
  {
   "cell_type": "code",
   "execution_count": null,
   "metadata": {},
   "outputs": [],
   "source": []
  },
  {
   "cell_type": "code",
   "execution_count": null,
   "metadata": {},
   "outputs": [],
   "source": []
  },
  {
   "cell_type": "code",
   "execution_count": null,
   "metadata": {},
   "outputs": [],
   "source": []
  },
  {
   "cell_type": "code",
   "execution_count": null,
   "metadata": {},
   "outputs": [],
   "source": []
  },
  {
   "cell_type": "code",
   "execution_count": null,
   "metadata": {},
   "outputs": [],
   "source": []
  },
  {
   "cell_type": "code",
   "execution_count": null,
   "metadata": {},
   "outputs": [],
   "source": []
  }
 ],
 "metadata": {
  "kernelspec": {
   "display_name": ".venv",
   "language": "python",
   "name": "python3"
  },
  "language_info": {
   "codemirror_mode": {
    "name": "ipython",
    "version": 3
   },
   "file_extension": ".py",
   "mimetype": "text/x-python",
   "name": "python",
   "nbconvert_exporter": "python",
   "pygments_lexer": "ipython3",
   "version": "3.10.12"
  }
 },
 "nbformat": 4,
 "nbformat_minor": 2
}
