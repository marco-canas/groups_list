{
 "cells": [
  {
   "cell_type": "markdown",
   "metadata": {},
   "source": []
  },
  {
   "cell_type": "markdown",
   "metadata": {},
   "source": [
    "# Horario de docencia e investigación "
   ]
  },
  {
   "cell_type": "code",
   "execution_count": 14,
   "metadata": {},
   "outputs": [],
   "source": [
    "indices_horas_del_dia = ['8-10 AM', '10-12 AM', \\\n",
    "                         '2-4 PM', '4-6 PM']\n",
    "diccionario_horario = {'miércoles':[ '', '', 'Pensamiento matemático', 'Pensamiento matemático'], \\\n",
    "                        'Jueves': ['', '','Pensamiento matemático', 'Pensamiento matemático'], \\\n",
    "                        'Viernes': ['Matemáticas I', 'Matemáticas I','','']}"
   ]
  },
  {
   "cell_type": "code",
   "execution_count": 15,
   "metadata": {},
   "outputs": [],
   "source": [
    "import pandas as pd "
   ]
  },
  {
   "cell_type": "code",
   "execution_count": 16,
   "metadata": {},
   "outputs": [
    {
     "data": {
      "text/html": [
       "<div>\n",
       "<style scoped>\n",
       "    .dataframe tbody tr th:only-of-type {\n",
       "        vertical-align: middle;\n",
       "    }\n",
       "\n",
       "    .dataframe tbody tr th {\n",
       "        vertical-align: top;\n",
       "    }\n",
       "\n",
       "    .dataframe thead th {\n",
       "        text-align: right;\n",
       "    }\n",
       "</style>\n",
       "<table border=\"1\" class=\"dataframe\">\n",
       "  <thead>\n",
       "    <tr style=\"text-align: right;\">\n",
       "      <th></th>\n",
       "      <th>miércoles</th>\n",
       "      <th>Jueves</th>\n",
       "      <th>Viernes</th>\n",
       "    </tr>\n",
       "  </thead>\n",
       "  <tbody>\n",
       "    <tr>\n",
       "      <th>8-10 AM</th>\n",
       "      <td></td>\n",
       "      <td></td>\n",
       "      <td>Matemáticas I</td>\n",
       "    </tr>\n",
       "    <tr>\n",
       "      <th>10-12 AM</th>\n",
       "      <td></td>\n",
       "      <td></td>\n",
       "      <td>Matemáticas I</td>\n",
       "    </tr>\n",
       "    <tr>\n",
       "      <th>2-4 PM</th>\n",
       "      <td>Pensamiento matemático</td>\n",
       "      <td>Pensamiento matemático</td>\n",
       "      <td></td>\n",
       "    </tr>\n",
       "    <tr>\n",
       "      <th>4-6 PM</th>\n",
       "      <td>Pensamiento matemático</td>\n",
       "      <td>Pensamiento matemático</td>\n",
       "      <td></td>\n",
       "    </tr>\n",
       "  </tbody>\n",
       "</table>\n",
       "</div>"
      ],
      "text/plain": [
       "                       miércoles                  Jueves        Viernes\n",
       "8-10 AM                                                   Matemáticas I\n",
       "10-12 AM                                                  Matemáticas I\n",
       "2-4 PM    Pensamiento matemático  Pensamiento matemático               \n",
       "4-6 PM    Pensamiento matemático  Pensamiento matemático               "
      ]
     },
     "execution_count": 16,
     "metadata": {},
     "output_type": "execute_result"
    }
   ],
   "source": [
    "horario_2024_1 = pd.DataFrame(diccionario_horario, index = indices_horas_del_dia)\n",
    "horario_2024_1"
   ]
  },
  {
   "cell_type": "code",
   "execution_count": null,
   "metadata": {},
   "outputs": [],
   "source": []
  },
  {
   "cell_type": "code",
   "execution_count": null,
   "metadata": {},
   "outputs": [],
   "source": []
  },
  {
   "cell_type": "code",
   "execution_count": null,
   "metadata": {},
   "outputs": [],
   "source": []
  },
  {
   "cell_type": "code",
   "execution_count": null,
   "metadata": {},
   "outputs": [],
   "source": []
  },
  {
   "cell_type": "code",
   "execution_count": null,
   "metadata": {},
   "outputs": [],
   "source": []
  },
  {
   "cell_type": "code",
   "execution_count": null,
   "metadata": {},
   "outputs": [],
   "source": []
  }
 ],
 "metadata": {
  "kernelspec": {
   "display_name": ".venv",
   "language": "python",
   "name": "python3"
  },
  "language_info": {
   "codemirror_mode": {
    "name": "ipython",
    "version": 3
   },
   "file_extension": ".py",
   "mimetype": "text/x-python",
   "name": "python",
   "nbconvert_exporter": "python",
   "pygments_lexer": "ipython3",
   "version": "3.10.12"
  }
 },
 "nbformat": 4,
 "nbformat_minor": 2
}
