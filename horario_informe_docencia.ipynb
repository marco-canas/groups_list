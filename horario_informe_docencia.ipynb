{
 "cells": [
  {
   "cell_type": "markdown",
   "metadata": {},
   "source": [
    "<table align=\"left\">\n",
    "  <td>\n",
    "    <a href=\"https://colab.research.google.com/github/marco-canas/groups_list/blob/main/horario_informe_docencia.ipynb\" target=\"_parent\"><img src=\"https://colab.research.google.com/assets/colab-badge.svg\" alt=\"Open In Colab\"/></a>\n",
    "  </td>\n",
    "</table>"
   ]
  },
  {
   "cell_type": "markdown",
   "metadata": {},
   "source": [
    "# Horario de docencia e investigación "
   ]
  },
  {
   "cell_type": "code",
   "execution_count": 1,
   "metadata": {
    "scrolled": true
   },
   "outputs": [
    {
     "data": {
      "text/html": [
       "<div>\n",
       "<style scoped>\n",
       "    .dataframe tbody tr th:only-of-type {\n",
       "        vertical-align: middle;\n",
       "    }\n",
       "\n",
       "    .dataframe tbody tr th {\n",
       "        vertical-align: top;\n",
       "    }\n",
       "\n",
       "    .dataframe thead th {\n",
       "        text-align: right;\n",
       "    }\n",
       "</style>\n",
       "<table border=\"1\" class=\"dataframe\">\n",
       "  <thead>\n",
       "    <tr style=\"text-align: right;\">\n",
       "      <th></th>\n",
       "      <th>Lunes</th>\n",
       "      <th>Martes</th>\n",
       "      <th>Miércoles</th>\n",
       "      <th>Jueves</th>\n",
       "      <th>Viernes</th>\n",
       "      <th>sabado</th>\n",
       "      <th>domingo</th>\n",
       "    </tr>\n",
       "  </thead>\n",
       "  <tbody>\n",
       "    <tr>\n",
       "      <th>8-10 AM</th>\n",
       "      <td>Cálculo Vectorial</td>\n",
       "      <td>Fundamentos de aritmética</td>\n",
       "      <td>Fundamentos de lógica</td>\n",
       "      <td>Encuentro con idalina</td>\n",
       "      <td>desarrollo del pensamiento matemático</td>\n",
       "      <td>calculo y luego aritmetica</td>\n",
       "      <td></td>\n",
       "    </tr>\n",
       "    <tr>\n",
       "      <th>10-12 AM</th>\n",
       "      <td>Cálculo Vectorial</td>\n",
       "      <td>Fundamentos de aritmética</td>\n",
       "      <td>Fundamentos de lógica</td>\n",
       "      <td></td>\n",
       "      <td>desarrollo del pensamiento matemático</td>\n",
       "      <td>logica</td>\n",
       "      <td></td>\n",
       "    </tr>\n",
       "    <tr>\n",
       "      <th>2-4 PM</th>\n",
       "      <td></td>\n",
       "      <td></td>\n",
       "      <td></td>\n",
       "      <td>desarrollo del pensamiento matemático</td>\n",
       "      <td></td>\n",
       "      <td></td>\n",
       "      <td></td>\n",
       "    </tr>\n",
       "    <tr>\n",
       "      <th>4-6 PM</th>\n",
       "      <td></td>\n",
       "      <td></td>\n",
       "      <td></td>\n",
       "      <td>desarrollo del pensamiento matemático</td>\n",
       "      <td></td>\n",
       "      <td></td>\n",
       "      <td></td>\n",
       "    </tr>\n",
       "  </tbody>\n",
       "</table>\n",
       "</div>"
      ],
      "text/plain": [
       "                      Lunes                     Martes              Miércoles  \\\n",
       "8-10 AM   Cálculo Vectorial  Fundamentos de aritmética  Fundamentos de lógica   \n",
       "10-12 AM  Cálculo Vectorial  Fundamentos de aritmética  Fundamentos de lógica   \n",
       "2-4 PM                                                                          \n",
       "4-6 PM                                                                          \n",
       "\n",
       "                                         Jueves  \\\n",
       "8-10 AM                   Encuentro con idalina   \n",
       "10-12 AM                                          \n",
       "2-4 PM    desarrollo del pensamiento matemático   \n",
       "4-6 PM    desarrollo del pensamiento matemático   \n",
       "\n",
       "                                        Viernes                      sabado  \\\n",
       "8-10 AM   desarrollo del pensamiento matemático  calculo y luego aritmetica   \n",
       "10-12 AM  desarrollo del pensamiento matemático                      logica   \n",
       "2-4 PM                                                                        \n",
       "4-6 PM                                                                        \n",
       "\n",
       "         domingo  \n",
       "8-10 AM           \n",
       "10-12 AM          \n",
       "2-4 PM            \n",
       "4-6 PM            "
      ]
     },
     "execution_count": 1,
     "metadata": {},
     "output_type": "execute_result"
    }
   ],
   "source": [
    "import pandas as pd \n",
    "indices_horas_del_dia = ['8-10 AM', '10-12 AM', \\\n",
    "                         '2-4 PM', '4-6 PM']\n",
    "lunes = ['Cálculo Vectorial', 'Cálculo Vectorial', \\\n",
    "         '', '']\n",
    "martes = ['', '', '', '']\n",
    "miercoles = ['',\\\n",
    "              '',\\\n",
    "              '', '']\n",
    "jueves = ['', '', '', '']\n",
    "viernes = [ '', '','','']\n",
    "sabado = ['', '', '', '']\n",
    "domingo = ['', '', '', '']\n",
    "diccionario_horario = {'Lunes': lunes, \\\n",
    "                       'Martes':martes,\\\n",
    "                       'Miércoles':miercoles, \\\n",
    "                       'Jueves': jueves,\\\n",
    "                        'Viernes': viernes,\\\n",
    "                        'sabado':sabado, \\\n",
    "                        'domingo':domingo}\n",
    "\n",
    "horario_2024_1 = pd.DataFrame(diccionario_horario, index = indices_horas_del_dia)\n",
    "horario_2024_1"
   ]
  },
  {
   "cell_type": "markdown",
   "metadata": {},
   "source": [
    "# Programa para organizar una base de datos de todos los cursos por un año o a lo largo de 3 semestres"
   ]
  },
  {
   "cell_type": "code",
   "execution_count": null,
   "metadata": {},
   "outputs": [],
   "source": [
    "import numpy as np \n",
    "import pandas as pd  \n",
    "\n",
    "semestre = ['2024-2', '2025-1', '2025-2']\n",
    "cursos_semestre_2024_2 = ['Desarrollo del pensamiento matemático en la infancia', \\\n",
    "    'Cálculo Vectorial', 'Fundamentos de la Aritmética', 'Fundamentos de la Lógica']\n",
    "\n"
   ]
  },
  {
   "cell_type": "markdown",
   "metadata": {},
   "source": [
    "# Información de cada curso con la fechas de realización de curso  \n",
    "\n",
    "\n",
    "\n",
    "Mi nombre es Juan Felipe Rivera Hernández, para el semestre 2025-1 coordinaré el pregrado de Ingeniería Agropecuaria para Caucasia (esta actividad va ser temporal, posiblemente solo el semestre 2025-1 y 2025-2).\n",
    "\n",
    "Le informo que para el semestre 2025-1 usted está programado para el siguiente curso:\n",
    "\n",
    "Cálculo Vectorial (5009344)\n",
    "Días: Lunes\n",
    "Hora: 7:00 a 12:00 M\n",
    "Fechas:\n",
    "Febrero: 10-17-24                             \n",
    "Marzo: 3-10-17-31                                   \n",
    "Abril:7-21-28                                                   \n",
    "Mayo:5-12-19\n",
    "\n",
    "Si presenta alguna duda puede contactarme.\n",
    "\n",
    "Muchas gracias por su apoyo,\n",
    "\n",
    "Cordialmente,\n",
    "\n",
    "Juan Felipe Rivera Hernández\n",
    "Contacto: 3106314300\n"
   ]
  }
 ],
 "metadata": {
  "kernelspec": {
   "display_name": "Python 3",
   "language": "python",
   "name": "python3"
  },
  "language_info": {
   "codemirror_mode": {
    "name": "ipython",
    "version": 3
   },
   "file_extension": ".py",
   "mimetype": "text/x-python",
   "name": "python",
   "nbconvert_exporter": "python",
   "pygments_lexer": "ipython3",
   "version": "3.12.7"
  }
 },
 "nbformat": 4,
 "nbformat_minor": 4
}
