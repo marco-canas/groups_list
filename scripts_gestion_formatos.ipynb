{
 "cells": [
  {
   "cell_type": "markdown",
   "metadata": {},
   "source": [
    "# Gestión de scripts para organización de la información de estudiantes  "
   ]
  },
  {
   "cell_type": "code",
   "execution_count": 7,
   "metadata": {},
   "outputs": [
    {
     "name": "stdout",
     "output_type": "stream",
     "text": [
      "Documento actualizado correctamente.\n"
     ]
    }
   ],
   "source": [
    "# llenar formato  \n",
    "\n",
    "import pandas as pd\n",
    "from docx import Document\n",
    "\n",
    "# Rutas de los archivos\n",
    "excel_path = r\"C:\\Users\\marco\\Documentos\\docencia\\groups_list\\infantil.xlsx\"\n",
    "word_path = r\"C:\\Users\\marco\\Documentos\\docencia\\practica_v_dllo_pto_math_infancia\\clases_2025_1\\documentos_actas\\Formato Acta de inicio cursos práctica 2025-1.docx\"\n",
    "\n",
    "# Cargar datos desde Excel\n",
    "df = pd.read_excel(excel_path, dtype=str)  # Leer como texto para evitar problemas con formatos de cédula\n",
    "\n",
    "# Verificar si las columnas esperadas existen\n",
    "if \"Nombre\" not in df.columns or \"Cedula\" not in df.columns:\n",
    "    raise ValueError(\"El archivo Excel no contiene las columnas 'Nombre' y 'Cedula'.\")\n",
    "\n",
    "# Cargar el documento Word\n",
    "doc = Document(word_path)\n",
    "\n",
    "# Buscar la tabla correcta en el documento\n",
    "table = doc.tables[0]  # Asume que la primera tabla es la que se debe llenar, ajusta si es otra\n",
    "\n",
    "# Llenar la tabla con los datos de Excel (empezando desde la segunda fila para evitar sobrescribir encabezados)\n",
    "for i, (nombre, cedula) in enumerate(zip(df[\"Nombre\"], df[\"Cedula\"]), start=1):\n",
    "    if i >= len(table.rows):  # Agregar una nueva fila si es necesario\n",
    "        table.add_row()\n",
    "    \n",
    "    table.rows[i].cells[0].text = nombre  # Columna \"Nombre Completo\"\n",
    "    table.rows[i].cells[1].text = cedula  # Columna \"Cédula\"\n",
    "\n",
    "# Guardar el documento modificado\n",
    "doc.save(word_path)\n",
    "\n",
    "print(\"Documento actualizado correctamente.\")\n"
   ]
  },
  {
   "cell_type": "code",
   "execution_count": 8,
   "metadata": {},
   "outputs": [
    {
     "data": {
      "text/plain": [
       "440"
      ]
     },
     "execution_count": 8,
     "metadata": {},
     "output_type": "execute_result"
    }
   ],
   "source": [
    "40*11"
   ]
  }
 ],
 "metadata": {
  "kernelspec": {
   "display_name": ".venv",
   "language": "python",
   "name": "python3"
  },
  "language_info": {
   "codemirror_mode": {
    "name": "ipython",
    "version": 3
   },
   "file_extension": ".py",
   "mimetype": "text/x-python",
   "name": "python",
   "nbconvert_exporter": "python",
   "pygments_lexer": "ipython3",
   "version": "3.13.2"
  }
 },
 "nbformat": 4,
 "nbformat_minor": 2
}
